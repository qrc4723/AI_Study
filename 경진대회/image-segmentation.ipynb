{
 "cells": [
  {
   "cell_type": "markdown",
   "metadata": {
    "id": "d73d24e3-5c9e-4ade-9e6e-ca6f46a2d914"
   },
   "source": [
    "## Import"
   ]
  },
  {
   "cell_type": "code",
   "execution_count": 1,
   "metadata": {
    "id": "ad9b681e-370a-4cfa-a452-dd2d7f0cd77f"
   },
   "outputs": [],
   "source": [
    "import os\n",
    "import cv2\n",
    "\n",
    "import pandas as pd\n",
    "import numpy as np\n",
    "\n",
    "import torch\n",
    "import torch.nn as nn\n",
    "from torch.utils.data import Dataset, DataLoader\n",
    "from torchvision import transforms\n",
    "\n",
    "from tqdm import tqdm\n",
    "import albumentations as A\n",
    "from albumentations.pytorch import ToTensorV2\n",
    "\n",
    "device = torch.device('cuda' if torch.cuda.is_available() else 'cpu')"
   ]
  },
  {
   "cell_type": "code",
   "execution_count": 2,
   "metadata": {},
   "outputs": [
    {
     "name": "stdout",
     "output_type": "stream",
     "text": [
      "Current cuda device  0\n"
     ]
    }
   ],
   "source": [
    "\n",
    "device = torch.device(\"cuda:0\" if torch.cuda.is_available() else 'cpu')\n",
    "torch.cuda.set_device(device) # change allocation of current GPU\n",
    "print ('Current cuda device ', torch.cuda.current_device()) # check"
   ]
  },
  {
   "cell_type": "code",
   "execution_count": 3,
   "metadata": {
    "id": "Fk6n6bKvK0Jp"
   },
   "outputs": [],
   "source": [
    "import random"
   ]
  },
  {
   "cell_type": "code",
   "execution_count": 4,
   "metadata": {
    "id": "wAPY3-8dKurC"
   },
   "outputs": [],
   "source": [
    "def fix_all_seeds(seed):\n",
    "    np.random.seed(seed)\n",
    "    random.seed(seed)\n",
    "    os.environ['PYTHONHASHSEED'] = str(seed)\n",
    "    torch.manual_seed(seed)\n",
    "    torch.cuda.manual_seed(seed)\n",
    "    torch.cuda.manual_seed_all(seed)\n",
    "\n",
    "fix_all_seeds(37)"
   ]
  },
  {
   "cell_type": "code",
   "execution_count": 5,
   "metadata": {
    "colab": {
     "base_uri": "https://localhost:8080/"
    },
    "id": "jCoBpxK2MQxY",
    "outputId": "d6117b65-d451-4d61-b322-609fca1c4388"
   },
   "outputs": [],
   "source": [
    "#from google.colab import drive\n",
    "#drive.mount('/content/gdrive', force_remount=True)\n",
    "\n",
    "#os.chdir('/content/gdrive/MyDrive/sw_ai')"
   ]
  },
  {
   "cell_type": "markdown",
   "metadata": {
    "id": "20ff3de5-0d0e-497b-ac75-d5179a3f65d3"
   },
   "source": [
    "## Utils"
   ]
  },
  {
   "cell_type": "code",
   "execution_count": 6,
   "metadata": {
    "id": "838e1d83-8670-407b-82f6-bf9652f58639"
   },
   "outputs": [],
   "source": [
    "# RLE 디코딩 함수\n",
    "def rle_decode(mask_rle, shape):\n",
    "    s = mask_rle.split()\n",
    "    starts, lengths = [np.asarray(x, dtype=int) for x in (s[0:][::2], s[1:][::2])]\n",
    "    starts -= 1\n",
    "    ends = starts + lengths\n",
    "    img = np.zeros(shape[0]*shape[1], dtype=np.uint8)\n",
    "    for lo, hi in zip(starts, ends):\n",
    "        img[lo:hi] = 1\n",
    "    return img.reshape(shape)\n",
    "\n",
    "# RLE 인코딩 함수\n",
    "def rle_encode(mask):\n",
    "    pixels = mask.flatten()\n",
    "    pixels = np.concatenate([[0], pixels, [0]])\n",
    "    runs = np.where(pixels[1:] != pixels[:-1])[0] + 1\n",
    "    runs[1::2] -= runs[::2]\n",
    "    return ' '.join(str(x) for x in runs)"
   ]
  },
  {
   "cell_type": "markdown",
   "metadata": {
    "id": "be76a29e-e9c2-411a-a569-04166f074184"
   },
   "source": [
    "## Custom Dataset"
   ]
  },
  {
   "cell_type": "code",
   "execution_count": 7,
   "metadata": {
    "id": "3O2u4XwxsQNX"
   },
   "outputs": [],
   "source": [
    "train_img_dir = './pro_data/data_for_training_and_testing/train/images/'\n",
    "train_mask_dir = './pro_data/data_for_training_and_testing/train/masks/'\n",
    "\n",
    "valid_img_dir = './pro_data/data_for_training_and_testing/val/images/'\n",
    "valid_mask_dir = './pro_data/data_for_training_and_testing/val/masks/'"
   ]
  },
  {
   "cell_type": "code",
   "execution_count": 8,
   "metadata": {},
   "outputs": [],
   "source": [
    "data_train_img = sorted(os.listdir(train_img_dir))\n",
    "data_train_mask = sorted(os.listdir(train_mask_dir))\n",
    "\n",
    "data_val_img = sorted(os.listdir(valid_img_dir))\n",
    "data_val_mask = sorted(os.listdir(valid_mask_dir))"
   ]
  },
  {
   "cell_type": "code",
   "execution_count": 9,
   "metadata": {},
   "outputs": [],
   "source": [
    "df_train = pd.DataFrame({'img_path': data_train_img, 'mask_path': data_train_mask})\n",
    "df_valid = pd.DataFrame({'img_path': data_val_img, 'mask_path': data_val_mask})"
   ]
  },
  {
   "cell_type": "code",
   "execution_count": 28,
   "metadata": {},
   "outputs": [],
   "source": [
    "valid_dataloader = DataLoader(validset, batch_size=64, shuffle=False, num_workers=48)"
   ]
  },
  {
   "cell_type": "code",
   "execution_count": 11,
   "metadata": {
    "id": "L_ib03g0sSKH"
   },
   "outputs": [],
   "source": [
    "class SatelliteDataset1(Dataset):\n",
    "    def __init__(self, dataset, lst_path, transform=None, infer=False):\n",
    "        self.data = dataset\n",
    "        self.transform = transform\n",
    "        self.infer = infer\n",
    "        self.lst_path = lst_path\n",
    "\n",
    "    def __len__(self):\n",
    "        return len(self.data)\n",
    "\n",
    "    def __getitem__(self, idx):\n",
    "        img_path = self.lst_path[0] + self.data.iloc[idx, 0]\n",
    "        image = cv2.imread(img_path)\n",
    "        image = cv2.cvtColor(image, cv2.COLOR_BGR2RGB)\n",
    "\n",
    "        if self.infer:\n",
    "            if self.transform:\n",
    "                image = self.transform(image=image)['image']\n",
    "            return image\n",
    "\n",
    "        mask_path = self.lst_path[1] + self.data.iloc[idx, 1]\n",
    "        mask = cv2.imread(mask_path, 0)\n",
    "\n",
    "        if self.transform:\n",
    "            augmented = self.transform(image=image, mask=mask)\n",
    "            image = augmented['image']\n",
    "            mask = augmented['mask']\n",
    "\n",
    "        return image, mask"
   ]
  },
  {
   "cell_type": "code",
   "execution_count": 12,
   "metadata": {
    "id": "jJwWN9CqsZlN"
   },
   "outputs": [],
   "source": [
    "transform4 = A.Compose([\n",
    "    A.Resize(224, 224),  # 적용 안해도됨. 이미 주어진 이미지가 224x224\n",
    "    A.Normalize(),  \n",
    "    A.HorizontalFlip(p=0.5),\n",
    "    A.VerticalFlip(p=0.5),\n",
    "    A.ShiftScaleRotate(p=0.5),\n",
    "    ToTensorV2()          # 기존\n",
    "])\n",
    "\n",
    "trainset = SatelliteDataset1(dataset = df_train, transform=transform4, lst_path = [train_img_dir, train_mask_dir])\n"
   ]
  },
  {
   "cell_type": "code",
   "execution_count": 27,
   "metadata": {},
   "outputs": [],
   "source": [
    "transform11 = A.Compose([\n",
    "    A.Resize(224, 224),  # 적용 안해도됨. 이미 주어진 이미지가 224x224\n",
    "    A.Normalize(),  \n",
    "    ToTensorV2()          # 기존\n",
    "])\n",
    "\n",
    "validset = SatelliteDataset1(dataset = df_valid, transform=transform11, lst_path = [valid_img_dir, valid_mask_dir])"
   ]
  },
  {
   "cell_type": "code",
   "execution_count": 15,
   "metadata": {
    "id": "a8496767-2f64-4285-bec4-c6f53a1fd9d2"
   },
   "outputs": [],
   "source": [
    "class SatelliteDataset(Dataset):\n",
    "    def __init__(self, csv_file, chk=0, transform=None, infer=False):\n",
    "        self.data = pd.read_csv(csv_file)\n",
    "        for i in range(len(self.data.iloc[:,1] )):\n",
    "          self.data.iloc[:,1][i]=self.data.iloc[:,1][i].replace(\"./\", \"/\")\n",
    "        self.data.iloc[:,1] = \"./data/\" + self.data.iloc[:,1]\n",
    "        self.transform = transform\n",
    "        self.infer = infer\n",
    "        self.chk = chk\n",
    "\n",
    "    def __len__(self):\n",
    "        return len(self.data)\n",
    "\n",
    "    def __getitem__(self, idx):\n",
    "        img_path = self.data.iloc[idx, 1]\n",
    "        image = cv2.imread(img_path)\n",
    "        image = cv2.cvtColor(image, cv2.COLOR_BGR2RGB)\n",
    "        #print(image)\n",
    "        if self.infer:\n",
    "            if self.transform:\n",
    "                image = self.transform(image=image)['image']\n",
    "                #image = torch.tensor(image, dtype=torch.float32) / 255.0\n",
    "            return image\n",
    "\n",
    "        mask_rle = self.data.iloc[idx, 2]\n",
    "        mask = rle_decode(mask_rle, (image.shape[0], image.shape[1]))\n",
    "\n",
    "        if self.transform:\n",
    "            augmented = self.transform(image=image, mask=mask)\n",
    "            image = augmented['image']\n",
    "            mask = augmented['mask']\n",
    "            #image = torch.tensor(image, dtype=torch.float32) / 255.0\n",
    "        if(self.chk==0):\n",
    "          return image, mask\n",
    "        elif (self.chk==1):\n",
    "          image = image[:,:224,:224]\n",
    "          mask = mask[:224, :224]\n",
    "          return image, mask\n",
    "        elif (self.chk==2):\n",
    "          image = image[:,:224,224:448]\n",
    "          mask = mask[:224, 224:448]\n",
    "          return image, mask\n",
    "        elif (self.chk==3):\n",
    "          image = image[:,:224,448:672]\n",
    "          mask = mask[:224, 448:672]\n",
    "          return image, mask\n",
    "        elif (self.chk==4):\n",
    "          image = image[:,:224,672:896]\n",
    "          mask = mask[:224, 672:896]\n",
    "          return image, mask\n",
    "        elif (self.chk==5):\n",
    "          image = image[:,:224,896:]\n",
    "          mask = mask[:224, 896:]\n",
    "          return image, mask\n",
    "        elif (self.chk==6):\n",
    "          image = image[:,224:448,:224]\n",
    "          mask = mask[224:448, :224]\n",
    "          return image, mask\n",
    "        elif (self.chk==7):\n",
    "          image = image[:,224:448,224:448]\n",
    "          mask = mask[224:448, 224:448]\n",
    "          return image, mask\n",
    "        elif (self.chk==8):\n",
    "          image = image[:,224:448,448:672]\n",
    "          mask = mask[224:448, 448:672]\n",
    "          return image, mask\n",
    "        elif (self.chk==9):\n",
    "          image = image[:,224:448,672:896]\n",
    "          mask = mask[224:448, 672:896]\n",
    "          return image, mask\n",
    "        elif (self.chk==10):\n",
    "          image = image[:,224:448,896:]\n",
    "          mask = mask[224:448, 896:]\n",
    "          return image, mask\n",
    "        elif (self.chk==11):\n",
    "          image = image[:,448:672,:224]\n",
    "          mask = mask[448:672, :224]\n",
    "          return image, mask\n",
    "        elif (self.chk==12):\n",
    "          image = image[:,448:672,224:448]\n",
    "          mask = mask[448:672, 224:448]\n",
    "          return image, mask\n",
    "        elif (self.chk==13):\n",
    "          image = image[:,448:672,448:672]\n",
    "          mask = mask[448:672, 448:672]\n",
    "          return image, mask\n",
    "        elif (self.chk==14):\n",
    "          image = image[:,448:672,672:896]\n",
    "          mask = mask[448:672, 672:896]\n",
    "          return image, mask\n",
    "        elif (self.chk==15):\n",
    "          image = image[:,448:672,896:]\n",
    "          mask = mask[448:672, 896:]\n",
    "          return image, mask\n",
    "        elif (self.chk==16):\n",
    "          image = image[:, 672:896,:224]\n",
    "          mask = mask[672:896, :224]\n",
    "          return image, mask\n",
    "        elif (self.chk==17):\n",
    "          image = image[:, 672:896,224:448]\n",
    "          mask = mask[672:896, 224:448]\n",
    "          return image, mask\n",
    "        elif (self.chk==18):\n",
    "          image = image[:, 672:896,448:672]\n",
    "          mask = mask[672:896, 448:672]\n",
    "          return image, mask\n",
    "        elif (self.chk==19):\n",
    "          image = image[:, 672:896, 672:896]\n",
    "          mask = mask[672:896, 672:896]\n",
    "          return image, mask\n",
    "        elif (self.chk==20):\n",
    "          image = image[:, 672:896,896:]\n",
    "          mask = mask[672:896, 896:]\n",
    "          return image, mask\n",
    "        elif (self.chk==21):\n",
    "          image = image[:, 896:,:224]\n",
    "          mask = mask[896:, :224]\n",
    "          return image, mask\n",
    "        elif (self.chk==22):\n",
    "          image = image[:, 896:,224:448]\n",
    "          mask = mask[896:, 224:448]\n",
    "          return image, mask\n",
    "        elif (self.chk==23):\n",
    "          image = image[:, 896:,448:672]\n",
    "          mask = mask[896:,448:672]\n",
    "          return image, mask\n",
    "        elif (self.chk==24):\n",
    "          image = image[:, 896:,672:896]\n",
    "          mask = mask[896:, 672:896]\n",
    "          return image, mask\n",
    "        else:\n",
    "          image = image[:, 896:,896:]\n",
    "          mask = mask[896:, 896:]\n",
    "          return image, mask\n",
    "\n"
   ]
  },
  {
   "cell_type": "code",
   "execution_count": 16,
   "metadata": {
    "id": "h86bti98XuFh"
   },
   "outputs": [],
   "source": [
    "import matplotlib.pyplot as plt"
   ]
  },
  {
   "cell_type": "markdown",
   "metadata": {
    "id": "dc955893-22fd-4320-88be-7aa0d790cbd9"
   },
   "source": [
    "## Data Loader"
   ]
  },
  {
   "cell_type": "code",
   "execution_count": 17,
   "metadata": {
    "id": "1b708503-2ff9-4584-9d73-40990b3572f8"
   },
   "outputs": [],
   "source": [
    "transform = A.Compose(\n",
    "    [ \n",
    "        A.Resize(1120, 1120),\n",
    "        A.Normalize(),\n",
    "        ToTensorV2()\n",
    "    ]\n",
    ")\n",
    "\n",
    "transform1 = A.Compose(\n",
    "    [\n",
    "        A.Resize(1120, 1120),\n",
    "        A.HorizontalFlip(p=1),\n",
    "        A.VerticalFlip(p=1),\n",
    "        A.ShiftScaleRotate(p=1),\n",
    "        A.Normalize(),\n",
    "        ToTensorV2()\n",
    "    ]\n",
    ")\n",
    "dataset1 = SatelliteDataset(csv_file='./train.csv', chk=1, transform=transform)\n",
    "dataset2 = SatelliteDataset(csv_file='./train.csv', chk=2, transform=transform)\n",
    "dataset3 = SatelliteDataset(csv_file='./train.csv', chk=3, transform=transform)\n",
    "dataset4 = SatelliteDataset(csv_file='./train.csv', chk=4, transform=transform)\n",
    "dataset5 = SatelliteDataset(csv_file='./train.csv', chk=5, transform=transform)\n",
    "dataset6 = SatelliteDataset(csv_file='./train.csv', chk=6, transform=transform)\n",
    "dataset7 = SatelliteDataset(csv_file='./train.csv', chk=7, transform=transform)\n",
    "dataset8 = SatelliteDataset(csv_file='./train.csv', chk=8, transform=transform)\n",
    "dataset9 = SatelliteDataset(csv_file='./train.csv', chk=9, transform=transform)\n",
    "dataset10 = SatelliteDataset(csv_file='./train.csv', chk=10, transform=transform)\n",
    "dataset11 = SatelliteDataset(csv_file='./train.csv', chk=11, transform=transform)\n",
    "dataset12 = SatelliteDataset(csv_file='./train.csv', chk=12, transform=transform)\n",
    "dataset13 = SatelliteDataset(csv_file='./train.csv', chk=13, transform=transform)\n",
    "dataset14 = SatelliteDataset(csv_file='./train.csv', chk=14, transform=transform)\n",
    "dataset15 = SatelliteDataset(csv_file='./train.csv', chk=15, transform=transform)\n",
    "dataset16 = SatelliteDataset(csv_file='./train.csv', chk=16, transform=transform)\n",
    "dataset25 = SatelliteDataset(csv_file='./train.csv', chk=25, transform=transform)\n",
    "dataset17 = SatelliteDataset(csv_file='./train.csv', chk=17, transform=transform)\n",
    "dataset18 = SatelliteDataset(csv_file='./train.csv', chk=18, transform=transform)\n",
    "dataset19 = SatelliteDataset(csv_file='./train.csv', chk=19, transform=transform)\n",
    "dataset20 = SatelliteDataset(csv_file='./train.csv', chk=20, transform=transform)\n",
    "dataset21 = SatelliteDataset(csv_file='./train.csv', chk=21, transform=transform)\n",
    "dataset22 = SatelliteDataset(csv_file='./train.csv', chk=22, transform=transform)\n",
    "dataset23 = SatelliteDataset(csv_file='./train.csv', chk=23, transform=transform)\n",
    "dataset24 = SatelliteDataset(csv_file='./train.csv', chk=24, transform=transform)\n",
    "#dataloader = DataLoader(dataset1+dataset2+dataset3+dataset4+dataset5+dataset6+dataset7+dataset8+dataset9+dataset10+dataset11+dataset12+dataset13+dataset14+dataset15+dataset16, batch_size=128, shuffle=True, num_workers=8)"
   ]
  },
  {
   "cell_type": "code",
   "execution_count": 18,
   "metadata": {},
   "outputs": [],
   "source": [
    "transform1 = A.Compose(\n",
    "    [\n",
    "        A.Resize(1120, 1120),\n",
    "        A.HorizontalFlip(p=1),\n",
    "        A.VerticalFlip(p=1),\n",
    "        A.ShiftScaleRotate(p=1),\n",
    "        A.Normalize(),\n",
    "        ToTensorV2()\n",
    "    ]\n",
    ")\n",
    "\n",
    "ddataset1 = SatelliteDataset(csv_file='./train.csv', chk=1, transform=transform1)\n",
    "ddataset2 = SatelliteDataset(csv_file='./train.csv', chk=2, transform=transform1)\n",
    "ddataset3 = SatelliteDataset(csv_file='./train.csv', chk=3, transform=transform1)\n",
    "ddataset4 = SatelliteDataset(csv_file='./train.csv', chk=4, transform=transform1)\n",
    "ddataset5 = SatelliteDataset(csv_file='./train.csv', chk=5, transform=transform1)\n",
    "ddataset6 = SatelliteDataset(csv_file='./train.csv', chk=6, transform=transform1)\n",
    "ddataset7 = SatelliteDataset(csv_file='./train.csv', chk=7, transform=transform1)\n",
    "ddataset8 = SatelliteDataset(csv_file='./train.csv', chk=8, transform=transform1)\n",
    "ddataset9 = SatelliteDataset(csv_file='./train.csv', chk=9, transform=transform1)\n",
    "ddataset10 = SatelliteDataset(csv_file='./train.csv', chk=10, transform=transform1)\n",
    "ddataset11 = SatelliteDataset(csv_file='./train.csv', chk=11, transform=transform1)\n",
    "ddataset12 = SatelliteDataset(csv_file='./train.csv', chk=12, transform=transform1)\n",
    "ddataset13 = SatelliteDataset(csv_file='./train.csv', chk=13, transform=transform1)\n",
    "ddataset14 = SatelliteDataset(csv_file='./train.csv', chk=14, transform=transform1)\n",
    "ddataset15 = SatelliteDataset(csv_file='./train.csv', chk=15, transform=transform1)\n",
    "ddataset16 = SatelliteDataset(csv_file='./train.csv', chk=16, transform=transform1)\n",
    "ddataset25 = SatelliteDataset(csv_file='./train.csv', chk=25, transform=transform1)\n",
    "ddataset17 = SatelliteDataset(csv_file='./train.csv', chk=17, transform=transform1)\n",
    "ddataset18 = SatelliteDataset(csv_file='./train.csv', chk=18, transform=transform1)\n",
    "ddataset19 = SatelliteDataset(csv_file='./train.csv', chk=19, transform=transform1)\n",
    "ddataset20 = SatelliteDataset(csv_file='./train.csv', chk=20, transform=transform1)\n",
    "ddataset21 = SatelliteDataset(csv_file='./train.csv', chk=21, transform=transform1)\n",
    "ddataset22 = SatelliteDataset(csv_file='./train.csv', chk=22, transform=transform1)\n",
    "ddataset23 = SatelliteDataset(csv_file='./train.csv', chk=23, transform=transform1)\n",
    "ddataset24 = SatelliteDataset(csv_file='./train.csv', chk=24, transform=transform1)"
   ]
  },
  {
   "cell_type": "code",
   "execution_count": 19,
   "metadata": {
    "id": "R9f3ZGhPUw49"
   },
   "outputs": [],
   "source": [
    "dataloader = DataLoader(dataset1+dataset2+dataset3+dataset4+dataset5+dataset6+dataset7+dataset8+dataset9+dataset10+dataset11+dataset12+dataset13+dataset14+dataset15+dataset16+dataset17+dataset18+dataset19+dataset20+dataset21+dataset22+dataset23+dataset24+dataset25+trainset\\\n",
    "                        +ddataset1+ddataset2+ddataset3+ddataset4+ddataset5+ddataset6+ddataset7+ddataset8+ddataset9+ddataset10+ddataset11+ddataset12+ddataset13+ddataset14+ddataset15+ddataset16+ddataset17+ddataset18+ddataset19+ddataset20+ddataset21+ddataset22+ddataset23+ddataset24+ddataset25, batch_size=64, shuffle=True, num_workers=48)"
   ]
  },
  {
   "cell_type": "code",
   "execution_count": null,
   "metadata": {
    "id": "WcMaZQOahCgs"
   },
   "outputs": [],
   "source": [
    "dataset = SatelliteDataset(csv_file='./train.csv', chk=0, transform=transform)\n",
    "ddataset = SatelliteDataset(csv_file='./train.csv', chk=0, transform=transform1)"
   ]
  },
  {
   "cell_type": "code",
   "execution_count": null,
   "metadata": {
    "colab": {
     "base_uri": "https://localhost:8080/",
     "height": 1000
    },
    "id": "MQGtGIwwTrHV",
    "outputId": "a38329c5-ec03-4615-c29f-f85b17c03b69"
   },
   "outputs": [],
   "source": [
    "plt.subplot(5, 5, 1)\n",
    "plt.imshow(dataset1[0][0].cpu().numpy().transpose((1, 2, 0)))\n",
    "plt.subplot(5, 5, 2)\n",
    "plt.imshow(dataset2[0][0].cpu().numpy().transpose((1, 2, 0)))\n",
    "plt.subplot(5, 5, 3)\n",
    "plt.imshow(dataset3[0][0].cpu().numpy().transpose((1, 2, 0)))\n",
    "plt.subplot(5, 5, 4)\n",
    "plt.imshow(dataset4[0][0].cpu().numpy().transpose((1, 2, 0)))\n",
    "plt.subplot(5, 5, 5)\n",
    "plt.imshow(dataset5[0][0].cpu().numpy().transpose((1, 2, 0)))\n",
    "plt.subplot(5, 5, 6)\n",
    "plt.imshow(dataset6[0][0].cpu().numpy().transpose((1, 2, 0)))\n",
    "plt.subplot(5, 5, 7)\n",
    "plt.imshow(dataset7[0][0].cpu().numpy().transpose((1, 2, 0)))\n",
    "plt.subplot(5, 5, 8)\n",
    "plt.imshow(dataset8[0][0].cpu().numpy().transpose((1, 2, 0)))\n",
    "plt.subplot(5, 5, 9)\n",
    "plt.imshow(dataset9[0][0].cpu().numpy().transpose((1, 2, 0)))\n",
    "plt.subplot(5, 5, 10)\n",
    "plt.imshow(dataset10[0][0].cpu().numpy().transpose((1, 2, 0)))\n",
    "plt.subplot(5, 5, 11)\n",
    "plt.imshow(dataset11[0][0].cpu().numpy().transpose((1, 2, 0)))\n",
    "plt.subplot(5, 5, 12)\n",
    "plt.imshow(dataset12[0][0].cpu().numpy().transpose((1, 2, 0)))\n",
    "plt.subplot(5, 5, 13)\n",
    "plt.imshow(dataset13[0][0].cpu().numpy().transpose((1, 2, 0)))\n",
    "plt.subplot(5, 5, 14)\n",
    "plt.imshow(dataset14[0][0].cpu().numpy().transpose((1, 2, 0)))\n",
    "plt.subplot(5, 5, 15)\n",
    "plt.imshow(dataset15[0][0].cpu().numpy().transpose((1, 2, 0)))\n",
    "plt.subplot(5, 5, 16)\n",
    "plt.imshow(dataset16[0][0].cpu().numpy().transpose((1, 2, 0)))\n",
    "plt.subplot(5, 5, 17)\n",
    "plt.imshow(dataset17[0][0].cpu().numpy().transpose((1, 2, 0)))\n",
    "plt.subplot(5, 5, 18)\n",
    "plt.imshow(dataset18[0][0].cpu().numpy().transpose((1, 2, 0)))\n",
    "plt.subplot(5, 5, 19)\n",
    "plt.imshow(dataset19[0][0].cpu().numpy().transpose((1, 2, 0)))\n",
    "plt.subplot(5, 5, 20)\n",
    "plt.imshow(dataset20[0][0].cpu().numpy().transpose((1, 2, 0)))\n",
    "plt.subplot(5, 5, 21)\n",
    "plt.imshow(dataset21[0][0].cpu().numpy().transpose((1, 2, 0)))\n",
    "plt.subplot(5, 5, 22)\n",
    "plt.imshow(dataset22[0][0].cpu().numpy().transpose((1, 2, 0)))\n",
    "plt.subplot(5, 5, 23)\n",
    "plt.imshow(dataset23[0][0].cpu().numpy().transpose((1, 2, 0)))\n",
    "plt.subplot(5, 5, 24)\n",
    "plt.imshow(dataset24[0][0].cpu().numpy().transpose((1, 2, 0)))\n",
    "plt.subplot(5, 5, 25)\n",
    "plt.imshow(dataset25[0][0].cpu().numpy().transpose((1, 2, 0)))\n",
    "plt.show()\n",
    "plt.imshow(dataset[0][1], alpha=0.4)\n",
    "plt.show()"
   ]
  },
  {
   "cell_type": "code",
   "execution_count": null,
   "metadata": {},
   "outputs": [],
   "source": [
    "plt.subplot(5, 5, 1)\n",
    "plt.imshow(ddataset1[0][0].cpu().numpy().transpose((1, 2, 0)))\n",
    "plt.subplot(5, 5, 2)\n",
    "plt.imshow(ddataset2[0][0].cpu().numpy().transpose((1, 2, 0)))\n",
    "plt.subplot(5, 5, 3)\n",
    "plt.imshow(ddataset3[0][0].cpu().numpy().transpose((1, 2, 0)))\n",
    "plt.subplot(5, 5, 4)\n",
    "plt.imshow(ddataset4[0][0].cpu().numpy().transpose((1, 2, 0)))\n",
    "plt.subplot(5, 5, 5)\n",
    "plt.imshow(ddataset5[0][0].cpu().numpy().transpose((1, 2, 0)))\n",
    "plt.subplot(5, 5, 6)\n",
    "plt.imshow(ddataset6[0][0].cpu().numpy().transpose((1, 2, 0)))\n",
    "plt.subplot(5, 5, 7)\n",
    "plt.imshow(ddataset7[0][0].cpu().numpy().transpose((1, 2, 0)))\n",
    "plt.subplot(5, 5, 8)\n",
    "plt.imshow(ddataset8[0][0].cpu().numpy().transpose((1, 2, 0)))\n",
    "plt.subplot(5, 5, 9)\n",
    "plt.imshow(ddataset9[0][0].cpu().numpy().transpose((1, 2, 0)))\n",
    "plt.subplot(5, 5, 10)\n",
    "plt.imshow(ddataset10[0][0].cpu().numpy().transpose((1, 2, 0)))\n",
    "plt.subplot(5, 5, 11)\n",
    "plt.imshow(ddataset11[0][0].cpu().numpy().transpose((1, 2, 0)))\n",
    "plt.subplot(5, 5, 12)\n",
    "plt.imshow(ddataset12[0][0].cpu().numpy().transpose((1, 2, 0)))\n",
    "plt.subplot(5, 5, 13)\n",
    "plt.imshow(ddataset13[0][0].cpu().numpy().transpose((1, 2, 0)))\n",
    "plt.subplot(5, 5, 14)\n",
    "plt.imshow(ddataset14[0][0].cpu().numpy().transpose((1, 2, 0)))\n",
    "plt.subplot(5, 5, 15)\n",
    "plt.imshow(ddataset15[0][0].cpu().numpy().transpose((1, 2, 0)))\n",
    "plt.subplot(5, 5, 16)\n",
    "plt.imshow(ddataset16[0][0].cpu().numpy().transpose((1, 2, 0)))\n",
    "plt.subplot(5, 5, 17)\n",
    "plt.imshow(ddataset17[0][0].cpu().numpy().transpose((1, 2, 0)))\n",
    "plt.subplot(5, 5, 18)\n",
    "plt.imshow(ddataset18[0][0].cpu().numpy().transpose((1, 2, 0)))\n",
    "plt.subplot(5, 5, 19)\n",
    "plt.imshow(ddataset19[0][0].cpu().numpy().transpose((1, 2, 0)))\n",
    "plt.subplot(5, 5, 20)\n",
    "plt.imshow(ddataset20[0][0].cpu().numpy().transpose((1, 2, 0)))\n",
    "plt.subplot(5, 5, 21)\n",
    "plt.imshow(ddataset21[0][0].cpu().numpy().transpose((1, 2, 0)))\n",
    "plt.subplot(5, 5, 22)\n",
    "plt.imshow(ddataset22[0][0].cpu().numpy().transpose((1, 2, 0)))\n",
    "plt.subplot(5, 5, 23)\n",
    "plt.imshow(ddataset23[0][0].cpu().numpy().transpose((1, 2, 0)))\n",
    "plt.subplot(5, 5, 24)\n",
    "plt.imshow(ddataset24[0][0].cpu().numpy().transpose((1, 2, 0)))\n",
    "plt.subplot(5, 5, 25)\n",
    "plt.imshow(ddataset25[0][0].cpu().numpy().transpose((1, 2, 0)))\n",
    "plt.show()\n",
    "plt.imshow(ddataset[0][1], alpha=0.4)\n",
    "plt.show()"
   ]
  },
  {
   "cell_type": "code",
   "execution_count": null,
   "metadata": {
    "colab": {
     "base_uri": "https://localhost:8080/"
    },
    "id": "8MlJTlBIitRf",
    "outputId": "97d142f8-3f76-43a4-fc0b-4cdde0896a7d"
   },
   "outputs": [],
   "source": [
    "dataset = dataset1 + dataset2+dataset3+dataset4+dataset5\n",
    "dataloader = DataLoader(dataset, batch_size=64, shuffle=True, num_workers=8)"
   ]
  },
  {
   "cell_type": "code",
   "execution_count": null,
   "metadata": {
    "colab": {
     "base_uri": "https://localhost:8080/"
    },
    "id": "khc5oZXkjV9I",
    "outputId": "0eb96633-994a-4f46-bd5b-f9dd689a3c8d"
   },
   "outputs": [],
   "source": [
    "len(dataloader) * 128"
   ]
  },
  {
   "cell_type": "code",
   "execution_count": 20,
   "metadata": {
    "id": "ZViiXbnaT-7M"
   },
   "outputs": [],
   "source": [
    "import torch.nn as nn\n",
    "import torchvision.models"
   ]
  },
  {
   "cell_type": "markdown",
   "metadata": {
    "id": "f42501fc-b573-4893-a7c4-5e280dfdaf09"
   },
   "source": [
    "## Define Model"
   ]
  },
  {
   "cell_type": "code",
   "execution_count": 21,
   "metadata": {
    "id": "65960bfb-803a-4c40-b713-6f647779e4ea"
   },
   "outputs": [],
   "source": [
    "import torchvision.models as models\n",
    "\n",
    "def convrelu(in_channels, out_channels, kernel, padding):\n",
    "  return nn.Sequential(\n",
    "    nn.Conv2d(in_channels, out_channels, kernel, padding=padding),\n",
    "    nn.ReLU(inplace=True),\n",
    "  )\n",
    "\n",
    "\n",
    "class ResNetUNet(nn.Module):\n",
    "  def __init__(self, n_class):\n",
    "    super().__init__()\n",
    "\n",
    "    self.base_model = torchvision.models.resnet18(pretrained=True)\n",
    "    self.base_layers = list(self.base_model.children())\n",
    "\n",
    "    self.layer0 = nn.Sequential(*self.base_layers[:3]) # size=(N, 64, x.H/2, x.W/2)\n",
    "    self.layer0_1x1 = convrelu(64, 64, 1, 0)\n",
    "    self.layer1 = nn.Sequential(*self.base_layers[3:5]) # size=(N, 64, x.H/4, x.W/4)\n",
    "    self.layer1_1x1 = convrelu(64, 64, 1, 0)\n",
    "    self.layer2 = self.base_layers[5]  # size=(N, 128, x.H/8, x.W/8)\n",
    "    self.layer2_1x1 = convrelu(128, 128, 1, 0)\n",
    "    self.layer3 = self.base_layers[6]  # size=(N, 256, x.H/16, x.W/16)\n",
    "    self.layer3_1x1 = convrelu(256, 256, 1, 0)\n",
    "    self.layer4 = self.base_layers[7]  # size=(N, 512, x.H/32, x.W/32)\n",
    "    self.layer4_1x1 = convrelu(512, 512, 1, 0)\n",
    "\n",
    "    self.upsample = nn.Upsample(scale_factor=2, mode='bilinear', align_corners=True)\n",
    "\n",
    "    self.conv_up3 = convrelu(256 + 512, 512, 3, 1)\n",
    "    self.conv_up2 = convrelu(128 + 512, 256, 3, 1)\n",
    "    self.conv_up1 = convrelu(64 + 256, 256, 3, 1)\n",
    "    self.conv_up0 = convrelu(64 + 256, 128, 3, 1)\n",
    "\n",
    "    self.conv_original_size0 = convrelu(3, 64, 3, 1)\n",
    "    self.conv_original_size1 = convrelu(64, 64, 3, 1)\n",
    "    self.conv_original_size2 = convrelu(64 + 128, 64, 3, 1)\n",
    "\n",
    "    self.conv_last = nn.Conv2d(64, n_class, 1)\n",
    "\n",
    "  def forward(self, input):\n",
    "    x_original = self.conv_original_size0(input)\n",
    "    x_original = self.conv_original_size1(x_original)\n",
    "\n",
    "    layer0 = self.layer0(input)\n",
    "    layer1 = self.layer1(layer0)\n",
    "    layer2 = self.layer2(layer1)\n",
    "    layer3 = self.layer3(layer2)\n",
    "    layer4 = self.layer4(layer3)\n",
    "\n",
    "    layer4 = self.layer4_1x1(layer4)\n",
    "    x = self.upsample(layer4)\n",
    "    layer3 = self.layer3_1x1(layer3)\n",
    "    x = torch.cat([x, layer3], dim=1)\n",
    "    x = self.conv_up3(x)\n",
    "\n",
    "    x = self.upsample(x)\n",
    "    layer2 = self.layer2_1x1(layer2)\n",
    "    x = torch.cat([x, layer2], dim=1)\n",
    "    x = self.conv_up2(x)\n",
    "\n",
    "    x = self.upsample(x)\n",
    "    layer1 = self.layer1_1x1(layer1)\n",
    "    x = torch.cat([x, layer1], dim=1)\n",
    "    x = self.conv_up1(x)\n",
    "\n",
    "    x = self.upsample(x)\n",
    "    layer0 = self.layer0_1x1(layer0)\n",
    "    x = torch.cat([x, layer0], dim=1)\n",
    "    x = self.conv_up0(x)\n",
    "\n",
    "    x = self.upsample(x)\n",
    "    x = torch.cat([x, x_original], dim=1)\n",
    "    x = self.conv_original_size2(x)\n",
    "\n",
    "    out = self.conv_last(x)\n",
    "\n",
    "    return out"
   ]
  },
  {
   "cell_type": "code",
   "execution_count": 22,
   "metadata": {},
   "outputs": [
    {
     "name": "stderr",
     "output_type": "stream",
     "text": [
      "/home/aicom/.local/lib/python3.8/site-packages/torchvision/models/_utils.py:208: UserWarning: The parameter 'pretrained' is deprecated since 0.13 and may be removed in the future, please use 'weights' instead.\n",
      "  warnings.warn(\n",
      "/home/aicom/.local/lib/python3.8/site-packages/torchvision/models/_utils.py:223: UserWarning: Arguments other than a weight enum or `None` for 'weights' are deprecated since 0.13 and may be removed in the future. The current behavior is equivalent to passing `weights=ResNet50_Weights.IMAGENET1K_V1`. You can also use `weights=ResNet50_Weights.DEFAULT` to get the most up-to-date weights.\n",
      "  warnings.warn(msg)\n"
     ]
    }
   ],
   "source": [
    "import torch\n",
    "import torch.nn as nn\n",
    "import torchvision\n",
    "resnet = torchvision.models.resnet.resnet50(pretrained=True)\n",
    "\n",
    "\n",
    "class ConvBlock(nn.Module):\n",
    "    \"\"\"\n",
    "    Helper module that consists of a Conv -> BN -> ReLU\n",
    "    \"\"\"\n",
    "\n",
    "    def __init__(self, in_channels, out_channels, padding=1, kernel_size=3, stride=1, with_nonlinearity=True):\n",
    "        super().__init__()\n",
    "        self.conv = nn.Conv2d(in_channels, out_channels, padding=padding, kernel_size=kernel_size, stride=stride)\n",
    "        self.bn = nn.BatchNorm2d(out_channels)\n",
    "        self.relu = nn.ReLU()\n",
    "        self.with_nonlinearity = with_nonlinearity\n",
    "\n",
    "    def forward(self, x):\n",
    "        x = self.conv(x)\n",
    "        x = self.bn(x)\n",
    "        if self.with_nonlinearity:\n",
    "            x = self.relu(x)\n",
    "        return x\n",
    "\n",
    "\n",
    "class Bridge(nn.Module):\n",
    "    \"\"\"\n",
    "    This is the middle layer of the UNet which just consists of some\n",
    "    \"\"\"\n",
    "\n",
    "    def __init__(self, in_channels, out_channels):\n",
    "        super().__init__()\n",
    "        self.bridge = nn.Sequential(\n",
    "            ConvBlock(in_channels, out_channels),\n",
    "            ConvBlock(out_channels, out_channels)\n",
    "        )\n",
    "\n",
    "    def forward(self, x):\n",
    "        return self.bridge(x)\n",
    "\n",
    "\n",
    "class UpBlockForUNetWithResNet50(nn.Module):\n",
    "    \"\"\"\n",
    "    Up block that encapsulates one up-sampling step which consists of Upsample -> ConvBlock -> ConvBlock\n",
    "    \"\"\"\n",
    "\n",
    "    def __init__(self, in_channels, out_channels, up_conv_in_channels=None, up_conv_out_channels=None,\n",
    "                 upsampling_method=\"conv_transpose\"):\n",
    "        super().__init__()\n",
    "\n",
    "        if up_conv_in_channels == None:\n",
    "            up_conv_in_channels = in_channels\n",
    "        if up_conv_out_channels == None:\n",
    "            up_conv_out_channels = out_channels\n",
    "\n",
    "        if upsampling_method == \"conv_transpose\":\n",
    "            self.upsample = nn.ConvTranspose2d(up_conv_in_channels, up_conv_out_channels, kernel_size=2, stride=2)\n",
    "        elif upsampling_method == \"bilinear\":\n",
    "            self.upsample = nn.Sequential(\n",
    "                nn.Upsample(mode='bilinear', scale_factor=2),\n",
    "                nn.Conv2d(in_channels, out_channels, kernel_size=1, stride=1)\n",
    "            )\n",
    "        self.conv_block_1 = ConvBlock(in_channels, out_channels)\n",
    "        self.conv_block_2 = ConvBlock(out_channels, out_channels)\n",
    "\n",
    "    def forward(self, up_x, down_x):\n",
    "        \"\"\"\n",
    "\n",
    "        :param up_x: this is the output from the previous up block\n",
    "        :param down_x: this is the output from the down block\n",
    "        :return: upsampled feature map\n",
    "        \"\"\"\n",
    "        x = self.upsample(up_x)\n",
    "        x = torch.cat([x, down_x], 1)\n",
    "        x = self.conv_block_1(x)\n",
    "        x = self.conv_block_2(x)\n",
    "        return x\n",
    "\n",
    "\n",
    "class UNetWithResnet50Encoder(nn.Module):\n",
    "    DEPTH = 6\n",
    "\n",
    "    def __init__(self, n_classes=1):\n",
    "        super().__init__()\n",
    "        resnet = torchvision.models.resnet.resnet50(pretrained=True)\n",
    "        down_blocks = []\n",
    "        up_blocks = []\n",
    "        self.input_block = nn.Sequential(*list(resnet.children()))[:3]\n",
    "        self.input_pool = list(resnet.children())[3]\n",
    "        for bottleneck in list(resnet.children()):\n",
    "            if isinstance(bottleneck, nn.Sequential):\n",
    "                down_blocks.append(bottleneck)\n",
    "        self.down_blocks = nn.ModuleList(down_blocks)\n",
    "        self.bridge = Bridge(2048, 2048)\n",
    "        up_blocks.append(UpBlockForUNetWithResNet50(2048, 1024))\n",
    "        up_blocks.append(UpBlockForUNetWithResNet50(1024, 512))\n",
    "        up_blocks.append(UpBlockForUNetWithResNet50(512, 256))\n",
    "        up_blocks.append(UpBlockForUNetWithResNet50(in_channels=128 + 64, out_channels=128,\n",
    "                                                    up_conv_in_channels=256, up_conv_out_channels=128))\n",
    "        up_blocks.append(UpBlockForUNetWithResNet50(in_channels=64 + 3, out_channels=64,\n",
    "                                                    up_conv_in_channels=128, up_conv_out_channels=64))\n",
    "\n",
    "        self.up_blocks = nn.ModuleList(up_blocks)\n",
    "\n",
    "        self.out = nn.Conv2d(64, n_classes, kernel_size=1, stride=1)\n",
    "\n",
    "    def forward(self, x, with_output_feature_map=False):\n",
    "        pre_pools = dict()\n",
    "        pre_pools[f\"layer_0\"] = x\n",
    "        x = self.input_block(x)\n",
    "        pre_pools[f\"layer_1\"] = x\n",
    "        x = self.input_pool(x)\n",
    "\n",
    "        for i, block in enumerate(self.down_blocks, 2):\n",
    "            x = block(x)\n",
    "            if i == (UNetWithResnet50Encoder.DEPTH - 1):\n",
    "                continue\n",
    "            pre_pools[f\"layer_{i}\"] = x\n",
    "\n",
    "        x = self.bridge(x)\n",
    "\n",
    "        for i, block in enumerate(self.up_blocks, 1):\n",
    "            key = f\"layer_{UNetWithResnet50Encoder.DEPTH - 1 - i}\"\n",
    "            x = block(x, pre_pools[key])\n",
    "        output_feature_map = x\n",
    "        x = self.out(x)\n",
    "        del pre_pools\n",
    "        if with_output_feature_map:\n",
    "            return x, output_feature_map\n",
    "        else:\n",
    "            return x"
   ]
  },
  {
   "cell_type": "markdown",
   "metadata": {
    "id": "a0895765-fba0-4fd9-b955-a6c0e43012e9"
   },
   "source": [
    "## Model Train"
   ]
  },
  {
   "cell_type": "code",
   "execution_count": 23,
   "metadata": {
    "id": "TZDRz8LwDB7V"
   },
   "outputs": [],
   "source": [
    "import warnings\n",
    "\n",
    "# 경고 메시지 무시 설정\n",
    "warnings.filterwarnings(\"ignore\")"
   ]
  },
  {
   "cell_type": "code",
   "execution_count": null,
   "metadata": {},
   "outputs": [],
   "source": [
    "criterion = torch.nn.BCEWithLogitsLoss()\n",
    "optimizer = torch.optim.Adam(model.parameters(), lr=0.0001)"
   ]
  },
  {
   "cell_type": "code",
   "execution_count": null,
   "metadata": {},
   "outputs": [],
   "source": [
    "params = [ p.requires_grad 인 경우 model.parameters() 의 p 에 대한 p ] 옵티마이저 = torch.optim.SGD(params, lr=lr, momentum=momentum, weight_decay=weight_decay) lr_scheduler = torch.optim.lr_scheduler.StepLR(옵티마이저 , step_size= 5 , 감마= 0.1 ) n_batches = 길이 (dl_train)\n",
    "\n"
   ]
  },
  {
   "cell_type": "code",
   "execution_count": 23,
   "metadata": {
    "colab": {
     "base_uri": "https://localhost:8080/",
     "height": 657
    },
    "id": "63efb381-98c6-4d9b-a3b6-bd11c7fa8c41",
    "outputId": "fcd8d924-5d15-4dc3-cde8-6122d8725f91"
   },
   "outputs": [
    {
     "name": "stderr",
     "output_type": "stream",
     "text": [
      "100%|██████████| 6151/6151 [1:42:01<00:00,  1.00it/s]"
     ]
    },
    {
     "name": "stdout",
     "output_type": "stream",
     "text": [
      "Epoch 1, Loss: 0.08583677158309587\n"
     ]
    },
    {
     "name": "stderr",
     "output_type": "stream",
     "text": [
      "\n"
     ]
    }
   ],
   "source": [
    "# model 초기화\n",
    "\n",
    "#model = ResNetUNet(1)\n",
    "model = UNetWithResnet50Encoder()\n",
    "model = nn.DataParallel(model,device_ids = [0,1,2,3,4,5,6,7])\n",
    "model.to(device)\n",
    "\n",
    "# loss function과 optimizer 정의\n",
    "criterion = torch.nn.BCEWithLogitsLoss()\n",
    "optimizer = torch.optim.Adam(model.parameters(), lr=0.0001)\n",
    "#optimizer = torch.optim.SGD(model.parameters(), lr=0.0001)\n",
    "#lr_scheduler = torch.optim.lr_scheduler.StepLR(optimizer, step_size=5, gamma=0.1)\n",
    "# training loop\n",
    "for epoch in range(1):  # 10 에폭 동안 학습합니다.\n",
    "    model.train()\n",
    "    epoch_loss = 0\n",
    "    for images, masks in tqdm(dataloader):\n",
    "        images = images.float().to(device)\n",
    "        masks = masks.float().to(device)\n",
    "\n",
    "        optimizer.zero_grad()\n",
    "        outputs = model(images)\n",
    "        loss = criterion(outputs, masks.unsqueeze(1))\n",
    "        loss.backward()\n",
    "        optimizer.step()\n",
    "        \n",
    "        epoch_loss += loss.item()\n",
    "        #lr_scheduler.step()\n",
    "    print(f'Epoch {epoch+1}, Loss: {epoch_loss/len(dataloader)}')"
   ]
  },
  {
   "cell_type": "code",
   "execution_count": 25,
   "metadata": {},
   "outputs": [],
   "source": [
    "epoch = 7\n",
    "torch.save({\n",
    "            'epoch': epoch,\n",
    "            'model_state_dict': model.state_dict(),\n",
    "            'optimizer_state_dict': optimizer.state_dict(),\n",
    "            'loss': loss,\n",
    "            }, './model(b=64,agu-re,7).pth')"
   ]
  },
  {
   "cell_type": "code",
   "execution_count": 24,
   "metadata": {},
   "outputs": [
    {
     "name": "stderr",
     "output_type": "stream",
     "text": [
      "100%|██████████| 6151/6151 [1:57:33<00:00,  1.15s/it]"
     ]
    },
    {
     "name": "stdout",
     "output_type": "stream",
     "text": [
      "Epoch 1, Loss: 0.03683130316699138\n"
     ]
    },
    {
     "name": "stderr",
     "output_type": "stream",
     "text": [
      "\n"
     ]
    }
   ],
   "source": [
    "model = UNetWithResnet50Encoder()\n",
    "model = nn.DataParallel(model,device_ids = [0,1,2,3,4,5,6,7])\n",
    "model.to(device)\n",
    "\n",
    "criterion = torch.nn.BCEWithLogitsLoss()\n",
    "optimizer = torch.optim.Adam(model.parameters(), lr=0.0001)\n",
    "\n",
    "checkpoint = torch.load('./model(b=64,agu-re,6).pth')\n",
    "model.load_state_dict(checkpoint['model_state_dict'])\n",
    "optimizer.load_state_dict(checkpoint['optimizer_state_dict'])\n",
    "epoch = checkpoint['epoch']\n",
    "loss = checkpoint['loss']\n",
    "\n",
    "for epoch in range(1):  # 10 에폭 동안 학습합니다.\n",
    "    model.train()\n",
    "    epoch_loss = 0\n",
    "    for images, masks in tqdm(dataloader):\n",
    "        images = images.float().to(device)\n",
    "        masks = masks.float().to(device)\n",
    "\n",
    "        optimizer.zero_grad()\n",
    "        outputs = model(images)\n",
    "        loss = criterion(outputs, masks.unsqueeze(1))\n",
    "        loss.backward()\n",
    "        optimizer.step()\n",
    "\n",
    "        epoch_loss += loss.item()\n",
    "\n",
    "    print(f'Epoch {epoch+1}, Loss: {epoch_loss/len(dataloader)}')"
   ]
  },
  {
   "cell_type": "code",
   "execution_count": 23,
   "metadata": {},
   "outputs": [],
   "source": [
    "model = UNetWithResnet50Encoder()\n",
    "model = nn.DataParallel(model,device_ids = [0,1,2,3,4,5,6,7])\n",
    "model.to(device)\n",
    "\n",
    "criterion = torch.nn.BCEWithLogitsLoss()\n",
    "optimizer = torch.optim.Adam(model.parameters(), lr=0.0001)\n",
    "checkpoint = torch.load('./model(b=64,agu-re,7).pth')\n",
    "model.load_state_dict(checkpoint['model_state_dict'])\n",
    "optimizer.load_state_dict(checkpoint['optimizer_state_dict'])\n",
    "epoch = checkpoint['epoch']\n",
    "loss = checkpoint['loss']"
   ]
  },
  {
   "cell_type": "code",
   "execution_count": 57,
   "metadata": {},
   "outputs": [
    {
     "name": "stderr",
     "output_type": "stream",
     "text": [
      "100%|██████████| 191/191 [02:04<00:00,  1.53it/s]\n"
     ]
    }
   ],
   "source": [
    "with torch.no_grad():\n",
    "    model.eval()\n",
    "    result = []\n",
    "    for images, mask in tqdm(valid_dataloader):\n",
    "        images = images.float().to(device)\n",
    "\n",
    "        outputs = model(images)\n",
    "        masks = torch.sigmoid(outputs).cpu().numpy()\n",
    "        masks = np.squeeze(masks, axis=1)\n",
    "        masks = (masks > 0.35).astype(np.uint8) # Threshold = 0.35\n",
    "\n",
    "        for i in range(len(images)):\n",
    "            mask_rle = rle_encode(masks[i])\n",
    "            if mask_rle == '': # 예측된 건물 픽셀이 아예 없는 경우 -1\n",
    "                result.append(-1)\n",
    "            else:\n",
    "                result.append(mask_rle)"
   ]
  },
  {
   "cell_type": "code",
   "execution_count": 58,
   "metadata": {},
   "outputs": [
    {
     "data": {
      "image/png": "[encoded data removed]",
      "text/plain": [
       "<Figure size 1080x1080 with 3 Axes>"
      ]
     },
     "metadata": {
      "needs_background": "light"
     },
     "output_type": "display_data"
    }
   ],
   "source": [
    "import matplotlib.pyplot as plt\n",
    "\n",
    "def display(display_list):\n",
    "    plt.figure(figsize=(15, 15))\n",
    "\n",
    "    title = ['Input Image', 'True Mask', 'Predicted Mask']\n",
    "\n",
    "    for i in range(len(display_list)):\n",
    "        plt.subplot(1, len(display_list), i+1)\n",
    "        plt.title(title[i])\n",
    "        if i == 0:\n",
    "            img = cv2.imread(display_list[i])\n",
    "            img = cv2.cvtColor(img, cv2.COLOR_BGR2RGB)\n",
    "            img = img.astype(np.uint8).copy()\n",
    "        if i == 1:\n",
    "            img = cv2.imread(display_list[i], 0)\n",
    "        if i == 2:\n",
    "            img = rle_decode(display_list[i], shape = (224, 224)) # shape 설정\n",
    "\n",
    "        plt.imshow(img)\n",
    "        plt.axis('off')\n",
    "    plt.show()\n",
    "\n",
    "idx = 4\n",
    "\n",
    "valid_img_path_idx = valid_img_dir + df_valid['img_path'][idx]\n",
    "valid_mask_path_idx = valid_mask_dir + df_valid['mask_path'][idx]\n",
    "valid_pred_mask_idx = result[idx]\n",
    "\n",
    "display_list = [valid_img_path_idx, valid_mask_path_idx, valid_pred_mask_idx]\n",
    "display(display_list)"
   ]
  },
  {
   "cell_type": "code",
   "execution_count": 59,
   "metadata": {},
   "outputs": [],
   "source": [
    "import numpy as np\n",
    "import pandas as pd\n",
    "from typing import List, Union\n",
    "from joblib import Parallel, delayed\n",
    "\n",
    "\n",
    "def rle_decode(mask_rle: Union[str, int], shape=(224, 224)) -> np.array:\n",
    "    '''\n",
    "    mask_rle: run-length as string formatted (start length)\n",
    "    shape: (height,width) of array to return\n",
    "    Returns numpy array, 1 - mask, 0 - background\n",
    "    '''\n",
    "    if mask_rle == -1:\n",
    "        return np.zeros(shape)\n",
    "\n",
    "    s = mask_rle.split()\n",
    "    starts, lengths = [np.asarray(x, dtype=int) for x in (s[0:][::2], s[1:][::2])]\n",
    "    starts -= 1\n",
    "    ends = starts + lengths\n",
    "    img = np.zeros(shape[0]*shape[1], dtype=np.uint8)\n",
    "    for lo, hi in zip(starts, ends):\n",
    "        img[lo:hi] = 1\n",
    "    return img.reshape(shape)"
   ]
  },
  {
   "cell_type": "code",
   "execution_count": 61,
   "metadata": {},
   "outputs": [],
   "source": [
    "valid_pred = {'mask_rle': result}\n",
    "prediction_df = pd.DataFrame(data = valid_pred)\n",
    "\n",
    "\n",
    "lst_ground_truth_rle = [rle_encode((validset.__getitem__(i))[1]) for i in range(len(df_valid))]\n",
    "valid_pred = {'mask_rle': lst_ground_truth_rle}\n",
    "ground_truth_df = pd.DataFrame(data = valid_pred)"
   ]
  },
  {
   "cell_type": "code",
   "execution_count": 62,
   "metadata": {},
   "outputs": [],
   "source": [
    "import tensorflow as tf\n",
    "from tensorflow import keras\n",
    "from keras.metrics import MeanIoU\n",
    "from matplotlib import pyplot as plt\n",
    "import tifffile as tiff\n",
    "from PIL import Image\n",
    "import random"
   ]
  },
  {
   "cell_type": "code",
   "execution_count": 63,
   "metadata": {},
   "outputs": [],
   "source": [
    "predNoBuildingIdx = list(filter(lambda x: result[x] == -1, range(len(result))))"
   ]
  },
  {
   "cell_type": "code",
   "execution_count": 64,
   "metadata": {},
   "outputs": [],
   "source": [
    "from sklearn.metrics import confusion_matrix\n",
    "\n",
    "def generateConfusionMatrix(ground_truth_mask, pred_mask):\n",
    "    y_true = sum(rle_decode(ground_truth_mask).tolist(), [])\n",
    "    y_pred = sum(rle_decode(pred_mask).tolist(), [])\n",
    "    cMatrix = confusion_matrix(y_true, y_pred)\n",
    "    return cMatrix\n",
    "\n",
    "def generateConfusionMatrixLst(lst_ground_truth_rle, lst_pred_rle):\n",
    "    lst_cMatrix = Parallel(n_jobs=1)(delayed(generateConfusionMatrix)(lst_ground_truth_rle[i], result[i]) for i in range(len(lst_ground_truth_rle)))\n",
    "    return lst_cMatrix"
   ]
  },
  {
   "cell_type": "code",
   "execution_count": null,
   "metadata": {},
   "outputs": [],
   "source": [
    "Lst_cMatrix = generateConfusionMatrixLst(lst_ground_truth_rle, result)"
   ]
  },
  {
   "cell_type": "code",
   "execution_count": null,
   "metadata": {},
   "outputs": [],
   "source": [
    "def IoU(cMatrix):\n",
    "    Intersection = cMatrix.diagonal()\n",
    "    Union11 = cMatrix.sum(axis = 0)[0] + cMatrix[0][1]\n",
    "    Union22 = cMatrix.sum(axis = 0)[1] + cMatrix[1][0]\n",
    "    Union = np.array([Union11, Union22])\n",
    "    return Intersection / Union\n",
    "\n",
    "# 전체 이미지 IoU 수치에 대하여 평균냄.\n",
    "def totalIoU(lst_cMatrix):\n",
    "    totalIoU = np.array([0, 0], dtype = 'float64')\n",
    "    for cMat in lst_cMatrix:\n",
    "        totalIoU += IoU(cMat)\n",
    "    return totalIoU / len(lst_cMatrix)\n",
    "\n",
    "def eachIoU(lst_cMatrix):\n",
    "    eachIoU = []\n",
    "    for cMat in lst_cMatrix:\n",
    "        eachIoU.append(IoU(cMat))\n",
    "    return eachIoU"
   ]
  },
  {
   "cell_type": "code",
   "execution_count": null,
   "metadata": {},
   "outputs": [],
   "source": [
    "totaliou = totalIoU(Lst_cMatrix)"
   ]
  },
  {
   "cell_type": "code",
   "execution_count": null,
   "metadata": {},
   "outputs": [],
   "source": [
    "def printClassScores(totaliou):\n",
    "    label = ['background', 'building']\n",
    "    print('classes          IoU      nIoU')\n",
    "    print('--------------------------------')\n",
    "    for i, iou in enumerate(totaliou):\n",
    "        labelName = label[i]\n",
    "        iouStr = f'{iou:>5.3f}'\n",
    "        niouStr = 'empty'\n",
    "        print('{:<14}: '.format(labelName) + iouStr + '    ' + niouStr)\n",
    "    print('--------------------------------')\n",
    "    print(f'Score Average : {(np.sum(totaliou) / 2):>5.3f}' + '    ' + niouStr)"
   ]
  },
  {
   "cell_type": "code",
   "execution_count": null,
   "metadata": {},
   "outputs": [],
   "source": [
    "printClassScores(totaliou)"
   ]
  },
  {
   "cell_type": "markdown",
   "metadata": {
    "id": "c32eb51c-a3fe-4e11-a616-3a717ba16f7e"
   },
   "source": [
    "## Inference"
   ]
  },
  {
   "cell_type": "code",
   "execution_count": 24,
   "metadata": {
    "id": "uREUdeoO-QbT"
   },
   "outputs": [],
   "source": [
    "transform3 = A.Compose(\n",
    "    [\n",
    "        A.Resize(224,224),\n",
    "        A.Normalize(),\n",
    "        ToTensorV2()\n",
    "    ]\n",
    ")"
   ]
  },
  {
   "cell_type": "code",
   "execution_count": 25,
   "metadata": {
    "colab": {
     "base_uri": "https://localhost:8080/"
    },
    "id": "12371c8b-0c78-47df-89ec-2d8b55c8ea94",
    "outputId": "5d6f9d7a-9034-4cea-e199-6c57d7ce6340"
   },
   "outputs": [],
   "source": [
    "test_dataset = SatelliteDataset(csv_file='./test.csv', transform=transform3, infer=True)\n",
    "test_dataloader = DataLoader(test_dataset, batch_size=64, shuffle=False, num_workers=48)"
   ]
  },
  {
   "cell_type": "code",
   "execution_count": null,
   "metadata": {
    "colab": {
     "base_uri": "https://localhost:8080/",
     "height": 480
    },
    "id": "355b431c-ac8e-4c40-9046-4d53e4bab14a",
    "outputId": "0db14117-67f6-4b41-f3d1-1bd1f6c5d953"
   },
   "outputs": [],
   "source": [
    "with torch.no_grad():\n",
    "    model.eval()\n",
    "    result = []\n",
    "    for images in tqdm(test_dataloader):\n",
    "        images = images.float().to(device)\n",
    "\n",
    "        outputs = model(images)\n",
    "        #print(outputs)\n",
    "        masks = torch.sigmoid(outputs).cpu().numpy()\n",
    "        masks = np.squeeze(masks, axis=1)\n",
    "        masks = (masks > 0.45).astype(np.uint8) # Threshold = 0.35\n",
    "        #print(masks)\n",
    "        for i in range(len(images)):\n",
    "            mask_rle = rle_encode(masks[i])\n",
    "            #print(mask_rle)\n",
    "            if mask_rle == '': # 예측된 건물 픽셀이 아예 없는 경우 -1\n",
    "                result.append(-1)\n",
    "            else:\n",
    "                result.append(mask_rle)"
   ]
  },
  {
   "cell_type": "markdown",
   "metadata": {
    "id": "36c2cbbb-04f1-4f9c-b4df-4b744dfce046"
   },
   "source": [
    "## Submission"
   ]
  },
  {
   "cell_type": "code",
   "execution_count": null,
   "metadata": {
    "id": "f6543d00-32b3-4f2d-a572-d0879fd0a497"
   },
   "outputs": [],
   "source": [
    "submit = pd.read_csv('./sample_submission.csv')\n",
    "submit['mask_rle'] = result"
   ]
  },
  {
   "cell_type": "code",
   "execution_count": null,
   "metadata": {
    "id": "da10cb6f-0826-4755-a376-97b695ae8f86"
   },
   "outputs": [],
   "source": [
    "submit.to_csv('./submit(resnetunet-agu-re-7-64-0.45).csv', index=False)"
   ]
  }
 ],
 "metadata": {
  "accelerator": "GPU",
  "colab": {
   "gpuType": "A100",
   "machine_shape": "hm",
   "provenance": []
  },
  "kernelspec": {
   "display_name": "Python 3",
   "language": "python",
   "name": "python3"
  },
  "language_info": {
   "codemirror_mode": {
    "name": "ipython",
    "version": 3
   },
   "file_extension": ".py",
   "mimetype": "text/x-python",
   "name": "python",
   "nbconvert_exporter": "python",
   "pygments_lexer": "ipython3",
   "version": "3.8.5"
  }
 },
 "nbformat": 4,
 "nbformat_minor": 5
}
